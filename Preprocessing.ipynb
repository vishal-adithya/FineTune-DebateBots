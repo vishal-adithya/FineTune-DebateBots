{
 "cells": [
  {
   "cell_type": "markdown",
   "metadata": {},
   "source": [
    "# FineTune - Debate Bots (Preprocessing Notebook) "
   ]
  },
  {
   "cell_type": "markdown",
   "metadata": {},
   "source": [
    "### Dependencies"
   ]
  },
  {
   "cell_type": "code",
   "execution_count": 8,
   "metadata": {},
   "outputs": [],
   "source": [
    "import os\n",
    "import re\n",
    "import pandas as pd\n",
    "import numpy as np"
   ]
  },
  {
   "cell_type": "markdown",
   "metadata": {},
   "source": [
    "### Filepaths"
   ]
  },
  {
   "cell_type": "code",
   "execution_count": 5,
   "metadata": {},
   "outputs": [],
   "source": [
    "RAW_DF_FILEPATH = os.path.join(\"Data\",\"debate_dataset_40000.csv\")\n",
    "TRAIN_DF_FILEPATH = os.path.join(\"Finegrained_Data\",\"train.jsonl\")\n",
    "TEST_DF_FILEPATH = os.path.join(\"Finegrained_Data\",\"test.jsonl\")\n",
    "VAL_DF_FILEPATH = os.path.join(\"Finegrained_Data\",\"val.jsonl\")"
   ]
  },
  {
   "cell_type": "markdown",
   "metadata": {},
   "source": [
    "### Preparing the Data"
   ]
  },
  {
   "cell_type": "code",
   "execution_count": 7,
   "metadata": {},
   "outputs": [
    {
     "data": {
      "text/html": [
       "<div>\n",
       "<style scoped>\n",
       "    .dataframe tbody tr th:only-of-type {\n",
       "        vertical-align: middle;\n",
       "    }\n",
       "\n",
       "    .dataframe tbody tr th {\n",
       "        vertical-align: top;\n",
       "    }\n",
       "\n",
       "    .dataframe thead th {\n",
       "        text-align: right;\n",
       "    }\n",
       "</style>\n",
       "<table border=\"1\" class=\"dataframe\">\n",
       "  <thead>\n",
       "    <tr style=\"text-align: right;\">\n",
       "      <th></th>\n",
       "      <th>topic</th>\n",
       "      <th>side</th>\n",
       "      <th>argument</th>\n",
       "    </tr>\n",
       "  </thead>\n",
       "  <tbody>\n",
       "    <tr>\n",
       "      <th>0</th>\n",
       "      <td>AI regulation #1</td>\n",
       "      <td>pro</td>\n",
       "      <td>Helps reduce negative impacts related to AI re...</td>\n",
       "    </tr>\n",
       "    <tr>\n",
       "      <th>1</th>\n",
       "      <td>AI regulation #1</td>\n",
       "      <td>pro</td>\n",
       "      <td>Addresses urgent issues in AI regulation.</td>\n",
       "    </tr>\n",
       "    <tr>\n",
       "      <th>2</th>\n",
       "      <td>AI regulation #1</td>\n",
       "      <td>pro</td>\n",
       "      <td>Necessary for long-term sustainability of AI r...</td>\n",
       "    </tr>\n",
       "    <tr>\n",
       "      <th>3</th>\n",
       "      <td>AI regulation #1</td>\n",
       "      <td>pro</td>\n",
       "      <td>Necessary for long-term sustainability of AI r...</td>\n",
       "    </tr>\n",
       "    <tr>\n",
       "      <th>4</th>\n",
       "      <td>AI regulation #1</td>\n",
       "      <td>pro</td>\n",
       "      <td>Increases public trust in AI regulation.</td>\n",
       "    </tr>\n",
       "  </tbody>\n",
       "</table>\n",
       "</div>"
      ],
      "text/plain": [
       "              topic side                                           argument\n",
       "0  AI regulation #1  pro  Helps reduce negative impacts related to AI re...\n",
       "1  AI regulation #1  pro          Addresses urgent issues in AI regulation.\n",
       "2  AI regulation #1  pro  Necessary for long-term sustainability of AI r...\n",
       "3  AI regulation #1  pro  Necessary for long-term sustainability of AI r...\n",
       "4  AI regulation #1  pro           Increases public trust in AI regulation."
      ]
     },
     "execution_count": 7,
     "metadata": {},
     "output_type": "execute_result"
    }
   ],
   "source": [
    "df = pd.read_csv(RAW_DF_FILEPATH)\n",
    "df.set_index(df[\"topic_id\"])\n",
    "df.drop(columns=[\"topic_id\"],inplace = True)\n",
    "df.head()"
   ]
  },
  {
   "cell_type": "code",
   "execution_count": 11,
   "metadata": {},
   "outputs": [
    {
     "data": {
      "text/html": [
       "<div>\n",
       "<style scoped>\n",
       "    .dataframe tbody tr th:only-of-type {\n",
       "        vertical-align: middle;\n",
       "    }\n",
       "\n",
       "    .dataframe tbody tr th {\n",
       "        vertical-align: top;\n",
       "    }\n",
       "\n",
       "    .dataframe thead th {\n",
       "        text-align: right;\n",
       "    }\n",
       "</style>\n",
       "<table border=\"1\" class=\"dataframe\">\n",
       "  <thead>\n",
       "    <tr style=\"text-align: right;\">\n",
       "      <th></th>\n",
       "      <th>topic</th>\n",
       "      <th>side</th>\n",
       "      <th>argument</th>\n",
       "    </tr>\n",
       "  </thead>\n",
       "  <tbody>\n",
       "    <tr>\n",
       "      <th>0</th>\n",
       "      <td>AI regulation</td>\n",
       "      <td>pro</td>\n",
       "      <td>Helps reduce negative impacts related to AI re...</td>\n",
       "    </tr>\n",
       "    <tr>\n",
       "      <th>1</th>\n",
       "      <td>AI regulation</td>\n",
       "      <td>pro</td>\n",
       "      <td>Addresses urgent issues in AI regulation.</td>\n",
       "    </tr>\n",
       "    <tr>\n",
       "      <th>2</th>\n",
       "      <td>AI regulation</td>\n",
       "      <td>pro</td>\n",
       "      <td>Necessary for long-term sustainability of AI r...</td>\n",
       "    </tr>\n",
       "    <tr>\n",
       "      <th>3</th>\n",
       "      <td>AI regulation</td>\n",
       "      <td>pro</td>\n",
       "      <td>Necessary for long-term sustainability of AI r...</td>\n",
       "    </tr>\n",
       "    <tr>\n",
       "      <th>4</th>\n",
       "      <td>AI regulation</td>\n",
       "      <td>pro</td>\n",
       "      <td>Increases public trust in AI regulation.</td>\n",
       "    </tr>\n",
       "  </tbody>\n",
       "</table>\n",
       "</div>"
      ],
      "text/plain": [
       "            topic side                                           argument\n",
       "0  AI regulation   pro  Helps reduce negative impacts related to AI re...\n",
       "1  AI regulation   pro          Addresses urgent issues in AI regulation.\n",
       "2  AI regulation   pro  Necessary for long-term sustainability of AI r...\n",
       "3  AI regulation   pro  Necessary for long-term sustainability of AI r...\n",
       "4  AI regulation   pro           Increases public trust in AI regulation."
      ]
     },
     "execution_count": 11,
     "metadata": {},
     "output_type": "execute_result"
    }
   ],
   "source": [
    "df[\"topic\"] = df[\"topic\"].map(lambda x: re.sub(\"[#0-9]\",\"\",x))\n",
    "df.head()"
   ]
  },
  {
   "cell_type": "code",
   "execution_count": 15,
   "metadata": {},
   "outputs": [
    {
     "data": {
      "text/plain": [
       "[{'text': 'You are a professional debater,Generate a pro arguement on the topic: AI regulation ',\n",
       "  'output': 'Helps reduce negative impacts related to AI regulation.'},\n",
       " {'text': 'You are a professional debater,Generate a pro arguement on the topic: AI regulation ',\n",
       "  'output': 'Addresses urgent issues in AI regulation.'},\n",
       " {'text': 'You are a professional debater,Generate a pro arguement on the topic: AI regulation ',\n",
       "  'output': 'Necessary for long-term sustainability of AI regulation.'},\n",
       " {'text': 'You are a professional debater,Generate a pro arguement on the topic: AI regulation ',\n",
       "  'output': 'Necessary for long-term sustainability of AI regulation.'},\n",
       " {'text': 'You are a professional debater,Generate a pro arguement on the topic: AI regulation ',\n",
       "  'output': 'Increases public trust in AI regulation.'}]"
      ]
     },
     "execution_count": 15,
     "metadata": {},
     "output_type": "execute_result"
    }
   ],
   "source": [
    "records = []\n",
    "for _,row in df.iterrows():\n",
    "    topic = row[\"topic\"]\n",
    "    side = row[\"side\"]\n",
    "    args = row[\"argument\"]\n",
    "\n",
    "    prompt = f\"You are a professional debater,Generate a {side} arguement on the topic: {topic}\"\n",
    "    records.append({\"text\":prompt,\"output\":args})\n",
    "records[:5]"
   ]
  }
 ],
 "metadata": {
  "kernelspec": {
   "display_name": "mlx-llm",
   "language": "python",
   "name": "python3"
  },
  "language_info": {
   "codemirror_mode": {
    "name": "ipython",
    "version": 3
   },
   "file_extension": ".py",
   "mimetype": "text/x-python",
   "name": "python",
   "nbconvert_exporter": "python",
   "pygments_lexer": "ipython3",
   "version": "3.9.6"
  }
 },
 "nbformat": 4,
 "nbformat_minor": 2
}
