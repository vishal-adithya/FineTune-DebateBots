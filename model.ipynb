{
 "cells": [
  {
   "cell_type": "markdown",
   "metadata": {},
   "source": [
    "# FineTune - Debate Bots (Model Training Notebook) "
   ]
  },
  {
   "cell_type": "code",
   "execution_count": 2,
   "metadata": {},
   "outputs": [
    {
     "name": "stdout",
     "output_type": "stream",
     "text": [
      "/Users/vishaladithya/Documents/GitHub/FineTune-DebateBots/mlx-llm/lib/python3.9/site-packages/urllib3/__init__.py:35: NotOpenSSLWarning: urllib3 v2 only supports OpenSSL 1.1.1+, currently the 'ssl' module is compiled with 'LibreSSL 2.8.3'. See: https://github.com/urllib3/urllib3/issues/3020\n",
      "  warnings.warn(\n",
      "Loading pretrained model\n",
      "Fetching 7 files: 100%|█████████████████████████| 7/7 [00:00<00:00, 7127.97it/s]\n",
      "Loading datasets\n",
      "Training\n",
      "Trainable parameters: 0.021% (1.704M/8019.808M)\n",
      "Starting training..., iters: 10\n",
      "Iter 1: Val loss 5.752, Val took 14.871s\n",
      "Iter 10: Val loss 4.355, Val took 14.800s\n",
      "Iter 10: Train loss 5.086, Learning Rate 1.000e-05, It/sec 0.988, Tokens/sec 82.625, Trained Tokens 836, Peak mem 5.200 GB\n",
      "Saved final weights to adapters/adapters.safetensors.\n"
     ]
    }
   ],
   "source": [
    "!python3 -m mlx_lm lora \\\n",
    "    --model mlx-community/Ministral-8b-Instruct-2410-4bit \\\n",
    "    --data Finegrained_Data \\\n",
    "    --fine-tune-type lora\\\n",
    "    --batch-size 4\\\n",
    "    --num-layers 16\\\n",
    "    --iters 10\\\n",
    "    --adapter-path adapters\\\n",
    "    --train"
   ]
  },
  {
   "cell_type": "code",
   "execution_count": null,
   "metadata": {},
   "outputs": [],
   "source": [
    "!python3 -m mlx_lm lora \\\n",
    "    --model mlx-community/Ministral-8b-Instruct-2410-4bit \\\n",
    "    --data Finegrained_Data \\\n",
    "    --fine-tune-type lora\\\n",
    "    --batch-size 4\\\n",
    "    --num-layers 16\\\n",
    "    --iters 200\\\n",
    "    --adapter-path adapters\\\n",
    "    --train"
   ]
  }
 ],
 "metadata": {
  "kernelspec": {
   "display_name": "mlx-llm",
   "language": "python",
   "name": "python3"
  },
  "language_info": {
   "codemirror_mode": {
    "name": "ipython",
    "version": 3
   },
   "file_extension": ".py",
   "mimetype": "text/x-python",
   "name": "python",
   "nbconvert_exporter": "python",
   "pygments_lexer": "ipython3",
   "version": "3.9.6"
  }
 },
 "nbformat": 4,
 "nbformat_minor": 2
}
